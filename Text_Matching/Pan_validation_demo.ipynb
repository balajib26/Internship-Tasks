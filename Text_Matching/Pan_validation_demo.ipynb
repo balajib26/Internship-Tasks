{
 "cells": [
  {
   "cell_type": "code",
   "execution_count": 1,
   "metadata": {},
   "outputs": [],
   "source": [
    "from pan_validation import *\n",
    "import time"
   ]
  },
  {
   "cell_type": "code",
   "execution_count": 2,
   "metadata": {},
   "outputs": [
    {
     "name": "stdout",
     "output_type": "stream",
     "text": [
      "\n",
      "\n",
      "Partial Match criteria fulfilled\n",
      "Match Percentage is: 71\n",
      "Partial Match Percentage is: 100\n",
      "Full Match:  71\n",
      "Partial Match: 100\n",
      "Time:  0.0006880760192871094\n"
     ]
    }
   ],
   "source": [
    "start = time.time()\n",
    "full_match,partial_match=fuzz_matching_name('Rohit Sharma', 'Rohit S')\n",
    "stop = time.time()\n",
    "print('Full Match: ', full_match)\n",
    "print('Partial Match:', partial_match)\n",
    "print('Time: ', stop - start) "
   ]
  },
  {
   "cell_type": "code",
   "execution_count": 3,
   "metadata": {
    "scrolled": true
   },
   "outputs": [
    {
     "name": "stdout",
     "output_type": "stream",
     "text": [
      "\n",
      "\n",
      "Partial Match criteria fulfilled\n",
      "Match Percentage is: 76\n",
      "Partial Match Percentage is: 100\n",
      "Time:  0.0012900829315185547\n",
      "\n",
      "\n",
      "Partial Match criteria fulfilled\n",
      "Match Percentage is: 86\n",
      "Partial Match Percentage is: 100\n",
      "Time:  0.0002732276916503906\n",
      "\n",
      "\n",
      "Partial Match criteria fulfilled\n",
      "Match Percentage is: 100\n",
      "Partial Match Percentage is: 100\n",
      "Time:  0.0002739429473876953\n",
      "\n",
      "\n",
      "Match is less likely because partial match is below 90\n",
      "Match Percentage is: 57\n",
      "Partial Match Percentage is: 60\n",
      "Time:  0.0003561973571777344\n",
      "\n",
      "\n",
      "Partial Match criteria fulfilled\n",
      "Match Percentage is: 71\n",
      "Partial Match Percentage is: 100\n",
      "Time:  0.00046324729919433594\n"
     ]
    }
   ],
   "source": [
    "toMatch = [{'x':'Deepak Kumar T R', 'y': 'Deepak T R'}, {'x':'BalasubraMANIAN BALAJI', 'y': 'balasubramanian b'}, \n",
    "           {'x':'J Shankar', 'y': 'Shankar J'},{'x':'Rohit Sharma','y':'Rohit Kohli'},{'x':'Rohit Sharma','y':'Rohit S'}\n",
    "          ] \n",
    "\n",
    "for i in toMatch:\n",
    "    i_dash = i['x'].split()\n",
    "    start = time.time()\n",
    "    fuzz_matching_name(i['x'],i['y'])\n",
    "    stop = time.time()\n",
    "    print('Time: ', stop - start) "
   ]
  }
 ],
 "metadata": {
  "kernelspec": {
   "display_name": "Python 3",
   "language": "python",
   "name": "python3"
  },
  "language_info": {
   "codemirror_mode": {
    "name": "ipython",
    "version": 3
   },
   "file_extension": ".py",
   "mimetype": "text/x-python",
   "name": "python",
   "nbconvert_exporter": "python",
   "pygments_lexer": "ipython3",
   "version": "3.7.3"
  }
 },
 "nbformat": 4,
 "nbformat_minor": 2
}
